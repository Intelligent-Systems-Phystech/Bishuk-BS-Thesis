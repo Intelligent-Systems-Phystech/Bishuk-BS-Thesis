{
 "cells": [
  {
   "cell_type": "code",
   "execution_count": 1,
   "metadata": {},
   "outputs": [],
   "source": [
    "import pandas as pd\n",
    "import numpy as np\n",
    "import time\n",
    "import datetime\n",
    "from tqdm import tqdm_notebook\n",
    "from collections import Counter"
   ]
  },
  {
   "cell_type": "markdown",
   "metadata": {},
   "source": [
    "---"
   ]
  },
  {
   "cell_type": "markdown",
   "metadata": {},
   "source": [
    "## Генерация и предобработка данных"
   ]
  },
  {
   "cell_type": "code",
   "execution_count": null,
   "metadata": {},
   "outputs": [],
   "source": [
    "# Данные закрыты, поэтому прикрепить их не выйдет\n",
    "locations = pd.read_csv(\"csv_data\\locations.csv\") # данные с положением людей в пространстве\n",
    "infusr = pd.read_csv(\"csv_data\\infusr.csv\")       # данные с временем обращения"
   ]
  },
  {
   "cell_type": "code",
   "execution_count": null,
   "metadata": {},
   "outputs": [],
   "source": [
    "# Разбитие на дни\n",
    "time_arr = np.array([1583269200.0 + i * 86400.0 for i in range(92)])"
   ]
  },
  {
   "cell_type": "markdown",
   "metadata": {},
   "source": [
    "### Добавим поля со временем:"
   ]
  },
  {
   "cell_type": "code",
   "execution_count": null,
   "metadata": {},
   "outputs": [],
   "source": [
    "time = locations['time']\n",
    "new_time = []\n",
    "\n",
    "for t in tqdm_notebook(list(time)):\n",
    "    day = np.where(time_arr<t)[0]\n",
    "    if len(day) == 0 or len(day) == len(time_arr):\n",
    "        new_time.append(-1)\n",
    "        continue\n",
    "    new_time.append(day[-1]+1)\n",
    "    \n",
    "locations['epoch'] = new_time"
   ]
  },
  {
   "cell_type": "code",
   "execution_count": null,
   "metadata": {},
   "outputs": [],
   "source": [
    "time = infusr['time']\n",
    "new_time_infusr = []\n",
    "\n",
    "for t in tqdm_notebook(list(time)):\n",
    "    day = np.where(time_arr<t)[0]\n",
    "    if len(day) == 0 or len(day) == len(time_arr):\n",
    "        new_time_infusr.append(-1)\n",
    "        continue\n",
    "    new_time_infusr.append(day[-1]+1)\n",
    "    \n",
    "infusr['epoch'] = new_time_infusr"
   ]
  },
  {
   "cell_type": "markdown",
   "metadata": {},
   "source": [
    "### Проведем отбор интересующих нас людей"
   ]
  },
  {
   "cell_type": "code",
   "execution_count": null,
   "metadata": {},
   "outputs": [],
   "source": [
    "interesting_people1 = set(locations[locations['epoch']==40]['user_id']) |\\\n",
    "                      set(locations[locations['epoch']==41]['user_id'])"
   ]
  },
  {
   "cell_type": "code",
   "execution_count": null,
   "metadata": {},
   "outputs": [],
   "source": [
    "count_day_all = Counter({})\n",
    "    \n",
    "for day in tqdm_notebook(range(40,91)):\n",
    "    day_row = list(set(list(locations[locations['epoch']==day]['user_id'])))\n",
    "    count_day_all.update(day_row)"
   ]
  },
  {
   "cell_type": "code",
   "execution_count": null,
   "metadata": {},
   "outputs": [],
   "source": [
    "count_day_inf = Counter({})\n",
    "INF_ID = infusr['user_id']\n",
    "df = locations[locations['user_id'].isin(set(INF_ID))]\n",
    "    \n",
    "for day in tqdm_notebook(range(40,91)):\n",
    "    day_row = set(list(df[df['epoch']==day]['user_id']))\n",
    "    count_day_inf.update(day_row)"
   ]
  },
  {
   "cell_type": "code",
   "execution_count": null,
   "metadata": {},
   "outputs": [],
   "source": [
    "interesting_people3 = []\n",
    "\n",
    "for i in tqdm_notebook(count_day_inf.keys()):\n",
    "    if count_day_inf[i] > 3:\n",
    "        interesting_people3.append(i)\n",
    "        \n",
    "interesting_people3 = set(interesting_people3)"
   ]
  },
  {
   "cell_type": "code",
   "execution_count": null,
   "metadata": {},
   "outputs": [],
   "source": [
    "all_day_1 = {i:Counter() for i in range(40,91)}\n",
    "all_day_2 = Counter()\n",
    "\n",
    "for i in tqdm_notebook(range(40,91)):\n",
    "    df = list(locations[locations['epoch'] == i]['user_id'])\n",
    "    all_day_1[i].update(df)\n",
    "    all_day_2.update(df)"
   ]
  },
  {
   "cell_type": "code",
   "execution_count": null,
   "metadata": {},
   "outputs": [],
   "source": [
    "interesting_people4 = set(np.array(list(all_day_2.keys()))[np.where(np.array(list(all_day_2.values()))>5000)[0]])"
   ]
  },
  {
   "cell_type": "code",
   "execution_count": null,
   "metadata": {},
   "outputs": [],
   "source": [
    "interesting_people = (interesting_people2 | interesting_people3) & interesting_people4"
   ]
  },
  {
   "cell_type": "markdown",
   "metadata": {},
   "source": [
    "### Для отобранных пользователей запустим генерацию матриц смежности\n",
    "\n",
    "Матрица будет говорить о том, сколько есть сигналов в одном дне, что два пользователя находились достаточно близко дргу к другом."
   ]
  },
  {
   "cell_type": "code",
   "execution_count": null,
   "metadata": {},
   "outputs": [],
   "source": [
    "LEFT,RIGHT = 40,91\n",
    "LOC = locations[locations['epoch'].isin([i for i in range(LEFT,RIGHT)])][locations['user_id'].isin(interesting_people)]\n",
    "\n",
    "for i in tqdm_notebook(range(LEFT, RIGHT)):\n",
    "    conj_matrix = np.zeros((len(interesting_people),len(interesting_people)))\n",
    "    \n",
    "    X = list(LOC[LOC['epoch']==i]['x'])\n",
    "    Y = list(LOC[LOC['epoch']==i]['y'])\n",
    "    USER_ID = list(LOC[LOC['epoch']==i]['user_id'])\n",
    "    LENGTH = len(USER_ID)\n",
    "\n",
    "    for ind_ip in tqdm_notebook(range(LENGTH)):\n",
    "        x_ip = X[ind_ip]\n",
    "        y_ip = Y[ind_ip]\n",
    "        cur_ip_ind = id_to_ind[USER_ID[ind_ip]]\n",
    "        \n",
    "        for ind_contact in range(ind_ip, LENGTH):\n",
    "\n",
    "            x_contact, y_contact = X[ind_contact], Y[ind_contact]\n",
    "            \n",
    "            if np.sqrt((x_ip-x_contact)**2+(y_ip-y_contact)**2) < 1.5:\n",
    "                \n",
    "                conj_matrix[cur_ip_ind][id_to_ind[USER_ID[ind_contact]]] += 1\n",
    "                \n",
    "    np.save(f\"Matrix_adj/{i}_day.npy\",conj_matrix)"
   ]
  },
  {
   "cell_type": "markdown",
   "metadata": {},
   "source": [
    "---"
   ]
  },
  {
   "cell_type": "markdown",
   "metadata": {},
   "source": [
    "## Эксперимент  \n",
    "### План:\n",
    "\n",
    "1. Создание графов nx-графов для сгенерированных матриц смежности;\n",
    "2. На полученных графах просимулировать работу модели SIER;\n",
    "3. Исследовать возможности модели:\n",
    "    * Выкидываем 10%-50% пользователей из отслеживаемых моделью и исследуем как падает качество предсказания;\n",
    "    * Выкидываем топ-k людей в лучшими центральностями и исследуем как падает качество предсказания: \n",
    "        * исследовать зависимость от k;\n",
    "        * исследовать зависимость от вида центральности;\n"
   ]
  },
  {
   "cell_type": "code",
   "execution_count": null,
   "metadata": {},
   "outputs": [],
   "source": [
    "#TODO: transfer from dev branch"
   ]
  }
 ],
 "metadata": {
  "kernelspec": {
   "display_name": "Python 3",
   "language": "python",
   "name": "python3"
  },
  "language_info": {
   "codemirror_mode": {
    "name": "ipython",
    "version": 3
   },
   "file_extension": ".py",
   "mimetype": "text/x-python",
   "name": "python",
   "nbconvert_exporter": "python",
   "pygments_lexer": "ipython3",
   "version": "3.6.10"
  }
 },
 "nbformat": 4,
 "nbformat_minor": 4
}
